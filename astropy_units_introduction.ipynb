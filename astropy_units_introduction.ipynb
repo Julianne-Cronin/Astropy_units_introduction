{
 "cells": [
  {
   "cell_type": "markdown",
   "metadata": {},
   "source": [
    "# A better way of performing astronomical calculations in python: an introduction to astropy constants and astropy units\n",
    "\n",
    "This notebook is intended as a quick introduction to the astropy constants and units modules (documentation here:  [astropy.constants](https://docs.astropy.org/en/stable/constants/index.html), [astropy.units](https://docs.astropy.org/en/stable/units/index.html)). \n",
    "\n",
    "I hope this notebook will do one or more of the following:\n",
    " * save you the time spent redefining common constants used in physical calculations\n",
    " * improve your code readability to others and yourself\n",
    " * make it easier to track units in your calculations\n",
    " * make your unit conversions easy and reproducible"
   ]
  },
  {
   "cell_type": "markdown",
   "metadata": {},
   "source": [
    "# Astropy constants\n",
    "\n",
    "A full list of all constants included in the astropy.constants library can be found on [the documentation](https://docs.astropy.org/en/stable/constants/index.html).\n",
    "\n",
    "Using a print statement will provide detail on any astropy constant: "
   ]
  },
  {
   "cell_type": "code",
   "execution_count": 1,
   "metadata": {
    "collapsed": false
   },
   "outputs": [
    {
     "name": "stdout",
     "output_type": "stream",
     "text": [
      "  Name   = Speed of light in vacuum\n",
      "  Value  = 299792458.0\n",
      "  Uncertainty  = 0.0\n",
      "  Unit  = m / s\n",
      "  Reference = CODATA 2018\n"
     ]
    }
   ],
   "source": [
    "from astropy.constants import c\n",
    "print(c)"
   ]
  },
  {
   "cell_type": "markdown",
   "metadata": {},
   "source": [
    "A small note: The last line in the print statement cites the module this constant is included in.  Each constants module may have different information for some of the constants.  For more information on the source of these constant values, see the astropy documentation."
   ]
  },
  {
   "cell_type": "markdown",
   "metadata": {},
   "source": [
    "# Astropy units\n",
    "\n",
    "Multiplying or dividing a number by an astropy unit creates a quantity with units.  A full list of units in the astropy library can be found on [the documentation](https://docs.astropy.org/en/stable/units/index.html)"
   ]
  },
  {
   "cell_type": "code",
   "execution_count": 2,
   "metadata": {
    "collapsed": false
   },
   "outputs": [
    {
     "name": "stdout",
     "output_type": "stream",
     "text": [
      "614.0 mi / h\n"
     ]
    }
   ],
   "source": [
    "from astropy import units as u\n",
    "\n",
    "#three equivalent ways of defining the speed of a boeing 747 as a quantity with units\n",
    "boeing747_speed = (614 * u.imperial.mile)/(1* u.hour)\n",
    "\n",
    "boeing747_speed = 614 * (u.imperial.mile/u.hour)\n",
    "\n",
    "mph = u.imperial.mile/u.hour\n",
    "boeing747_speed = 614 * mph\n",
    "\n",
    "\n",
    "print(boeing747_speed)"
   ]
  },
  {
   "cell_type": "markdown",
   "metadata": {},
   "source": [
    "A quantity with units has two properties: .value and .unit"
   ]
  },
  {
   "cell_type": "code",
   "execution_count": 3,
   "metadata": {
    "collapsed": false
   },
   "outputs": [
    {
     "name": "stdout",
     "output_type": "stream",
     "text": [
      "614.0\n",
      "mi / h\n"
     ]
    }
   ],
   "source": [
    "print(boeing747_speed.value)\n",
    "print(boeing747_speed.unit)"
   ]
  },
  {
   "cell_type": "markdown",
   "metadata": {},
   "source": [
    "To convert between units, use .to "
   ]
  },
  {
   "cell_type": "code",
   "execution_count": 4,
   "metadata": {
    "collapsed": false
   },
   "outputs": [
    {
     "name": "stdout",
     "output_type": "stream",
     "text": [
      "274.48256 m / s\n"
     ]
    }
   ],
   "source": [
    "boeing747_speed_si = boeing747_speed.to(u.m/u.s)\n",
    "print(boeing747_speed_si)"
   ]
  },
  {
   "cell_type": "markdown",
   "metadata": {},
   "source": [
    "the .to method creates a new quantity and does not change the original quantity"
   ]
  },
  {
   "cell_type": "code",
   "execution_count": 5,
   "metadata": {
    "collapsed": false
   },
   "outputs": [
    {
     "name": "stdout",
     "output_type": "stream",
     "text": [
      "614.0 mi / h\n"
     ]
    }
   ],
   "source": [
    "print(boeing747_speed)"
   ]
  },
  {
   "cell_type": "markdown",
   "metadata": {},
   "source": [
    "It is also possible to convert to  [SI](https://en.wikipedia.org/wiki/International_System_of_Units) or [cgs](https://en.wikipedia.org/wiki/Centimetre%E2%80%93gram%E2%80%93second_system_of_units) units conventions using .si or .cgs."
   ]
  },
  {
   "cell_type": "code",
   "execution_count": 6,
   "metadata": {
    "collapsed": false
   },
   "outputs": [
    {
     "name": "stdout",
     "output_type": "stream",
     "text": [
      "Boeing 747 speed in SI: 274.48256 m / s\n",
      "Boeing 747 speed in cgs: 27448.256 cm / s\n"
     ]
    }
   ],
   "source": [
    "print('Boeing 747 speed in SI: {}'.format(boeing747_speed.si))\n",
    "print('Boeing 747 speed in cgs: {}'.format(boeing747_speed.cgs))"
   ]
  },
  {
   "cell_type": "markdown",
   "metadata": {},
   "source": [
    " Same as .to, this conversion creates a new quantity and does not change the original."
   ]
  },
  {
   "cell_type": "code",
   "execution_count": 7,
   "metadata": {
    "collapsed": false
   },
   "outputs": [
    {
     "name": "stdout",
     "output_type": "stream",
     "text": [
      "614.0 mi / h\n"
     ]
    }
   ],
   "source": [
    "print(boeing747_speed)"
   ]
  },
  {
   "cell_type": "markdown",
   "metadata": {},
   "source": [
    "Quantities with units *cannot* be added to quantities with incompatible units.  This rule includes other objects that are not quantities such as floats.  Running either of the following cells should raise a UnitConversionError."
   ]
  },
  {
   "cell_type": "code",
   "execution_count": null,
   "metadata": {
    "collapsed": true
   },
   "outputs": [],
   "source": [
    "boeing747_speed + 1* (u.Mpc**-1)"
   ]
  },
  {
   "cell_type": "code",
   "execution_count": null,
   "metadata": {
    "collapsed": true
   },
   "outputs": [],
   "source": [
    "boeing747_speed + 1"
   ]
  },
  {
   "cell_type": "markdown",
   "metadata": {},
   "source": [
    "Only dimensionless quantities can be added to other numbers that are not quantities with units. If it is necessary to do so consider working with .value"
   ]
  },
  {
   "cell_type": "code",
   "execution_count": 8,
   "metadata": {
    "collapsed": false
   },
   "outputs": [
    {
     "name": "stdout",
     "output_type": "stream",
     "text": [
      "<class 'numpy.float64'>\n",
      "615.0\n"
     ]
    }
   ],
   "source": [
    "#two equivalent ways of getting the number value from a quantity\n",
    "unitless_speed = boeing747_speed.value\n",
    "\n",
    "print(type(unitless_speed))\n",
    "print(unitless_speed + 1)"
   ]
  },
  {
   "cell_type": "markdown",
   "metadata": {},
   "source": [
    "Or if you'd like to work with a dimensionless quantity instead, divide the quantity by its units"
   ]
  },
  {
   "cell_type": "code",
   "execution_count": 9,
   "metadata": {
    "collapsed": false
   },
   "outputs": [
    {
     "name": "stdout",
     "output_type": "stream",
     "text": [
      "<class 'astropy.units.quantity.Quantity'>\n",
      "615.0\n"
     ]
    }
   ],
   "source": [
    "dimensionless_speed = boeing747_speed/(boeing747_speed.unit)\n",
    "print(type(dimensionless_speed))\n",
    "print(unitless_speed + 1)"
   ]
  },
  {
   "cell_type": "markdown",
   "metadata": {},
   "source": [
    "# Example: How much faster is the speed of light than a boeing 747?\n",
    "\n",
    "Since this question asks about the ratio of speeds, the resulting quantity should be dimensionless,"
   ]
  },
  {
   "cell_type": "code",
   "execution_count": 10,
   "metadata": {
    "collapsed": false
   },
   "outputs": [
    {
     "name": "stdout",
     "output_type": "stream",
     "text": [
      "The speed of light is about 1092209.4941113926 times faster than a boeing747\n"
     ]
    }
   ],
   "source": [
    "from astropy.constants import c\n",
    "from astropy import units as u\n",
    "\n",
    "boeing747_speed = 614 * (u.imperial.mile/u.hour)\n",
    "\n",
    "answer = (c/boeing747_speed).to(u.dimensionless_unscaled)\n",
    "\n",
    "print('The speed of light is about {} times faster than a boeing747'.format(answer))"
   ]
  }
 ],
 "metadata": {
  "kernelspec": {
   "display_name": "Python 3",
   "language": "python",
   "name": "python3"
  },
  "language_info": {
   "codemirror_mode": {
    "name": "ipython",
    "version": 3
   },
   "file_extension": ".py",
   "mimetype": "text/x-python",
   "name": "python",
   "nbconvert_exporter": "python",
   "pygments_lexer": "ipython3",
   "version": "3.9.12"
  },
  "vscode": {
   "interpreter": {
    "hash": "67a68f77559089fb35a4948c3094cab1d28368679299ddc6965c9819538ce6d3"
   }
  }
 },
 "nbformat": 4,
 "nbformat_minor": 2
}
